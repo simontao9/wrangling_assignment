{
 "cells": [
  {
   "cell_type": "markdown",
   "id": "13ad028b-72b7-43ed-aa78-96fd4e518040",
   "metadata": {
    "id": "13ad028b-72b7-43ed-aa78-96fd4e518040"
   },
   "source": [
    "# Assignment: Data Wrangling\n",
    "### `! git clone https://github.com/ds3001f25/wrangling_assignment.git`\n",
    "### Do Q1 and Q2\n",
    "### Reading material: `tidy_data.pdf`"
   ]
  },
  {
   "cell_type": "markdown",
   "id": "da879ea7-8aac-48a3-b6c2-daea56d2e072",
   "metadata": {
    "id": "da879ea7-8aac-48a3-b6c2-daea56d2e072"
   },
   "source": [
    "**Q1.** This question provides some practice cleaning variables which have common problems.\n",
    "1. Numeric variable: For `./data/airbnb_hw.csv`, clean the `Price` variable as well as you can, and explain the choices you make. How many missing values do you end up with? (Hint: What happens to the formatting when a price goes over 999 dollars, say from 675 to 1,112?)\n",
    "2. Categorical variable: For the Minnesota police use of for data, `./data/mn_police_use_of_force.csv`, clean the `subject_injury` variable, handling the NA's; this gives a value `Yes` when a person was injured by police, and `No` when no injury occurred. What proportion of the values are missing? Is this a concern? Cross-tabulate your cleaned `subject_injury` variable with the `force_type` variable. Are there any patterns regarding when the data are missing? \n",
    "3. Dummy variable: For the pretrial data covered in the lecture `./data/justice_data.parquet`, clean the `WhetherDefendantWasReleasedPretrial` variable as well as you can, and, in particular, replace missing values with `np.nan`.\n",
    "4. Missing values, not at random: For the pretrial data covered in the lecture, clean the `ImposedSentenceAllChargeInContactEvent` variable as well as you can, and explain the choices you make. (Hint: Look at the `SentenceTypeAllChargesAtConvictionInContactEvent` variable.)"
   ]
  },
  {
   "cell_type": "code",
   "execution_count": 1,
   "id": "9d412a8d",
   "metadata": {},
   "outputs": [
    {
     "name": "stdout",
     "output_type": "stream",
     "text": [
      "0    145\n",
      "1     37\n",
      "2     28\n",
      "3    199\n",
      "4    549\n",
      "Name: Price, dtype: object\n",
      "0\n"
     ]
    }
   ],
   "source": [
    "import pandas as pd\n",
    "import numpy as np\n",
    "\n",
    "# Question 1.1\n",
    "dataq1p1 = pd.read_csv(\"./data/airbnb_hw.csv\")\n",
    "print(dataq1p1[\"Price\"].head())\n",
    "\n",
    "dataq1p1[\"Price\"] = (dataq1p1[\"Price\"].str.replace(',', '', regex=False).astype(float))\n",
    "\n",
    "price_missing = dataq1p1[\"Price\"].isna().sum()\n",
    "print(price_missing)"
   ]
  },
  {
   "cell_type": "markdown",
   "id": "42039a10",
   "metadata": {},
   "source": [
    "Q1.1\n",
    "\n",
    "When cleaning the \"Price\" variable, I removed all of the commas and casted all of the values to floats to ensure consistency throughout the column. I decided not to remove and dollar signs ($) from this column because the values did not appear to include them when I looked at the first 5 rows. After cleaning this variable, I ended up with 0 missing values."
   ]
  },
  {
   "cell_type": "code",
   "execution_count": 3,
   "id": "db302b7e",
   "metadata": {},
   "outputs": [
    {
     "name": "stdout",
     "output_type": "stream",
     "text": [
      "0    NaN\n",
      "1    NaN\n",
      "2    NaN\n",
      "3    NaN\n",
      "4    NaN\n",
      "Name: subject_injury, dtype: object\n"
     ]
    }
   ],
   "source": [
    "# Question 1.2\n",
    "dataq1p2 = pd.read_csv(\"./data/mn_police_use_of_force.csv\")\n",
    "print(dataq1p2[\"subject_injury\"].head())\n",
    "\n",
    "dataq1p2[\"subject_injury\"] = (dataq1p2[\"subject_injury\"].\n",
    "                              str.strip().\n",
    "                              str.lower().\n",
    "                              replace({'yes':'Yes', 'no':'No'}))\n",
    "\n"
   ]
  },
  {
   "cell_type": "markdown",
   "id": "1e50506b",
   "metadata": {},
   "source": [
    "Q1.2\n",
    "\n",
    "..."
   ]
  },
  {
   "cell_type": "code",
   "execution_count": 4,
   "id": "b262fdad",
   "metadata": {},
   "outputs": [
    {
     "data": {
      "text/html": [
       "<div>\n",
       "<style scoped>\n",
       "    .dataframe tbody tr th:only-of-type {\n",
       "        vertical-align: middle;\n",
       "    }\n",
       "\n",
       "    .dataframe tbody tr th {\n",
       "        vertical-align: top;\n",
       "    }\n",
       "\n",
       "    .dataframe thead th {\n",
       "        text-align: right;\n",
       "    }\n",
       "</style>\n",
       "<table border=\"1\" class=\"dataframe\">\n",
       "  <thead>\n",
       "    <tr style=\"text-align: right;\">\n",
       "      <th>ImposedSentenceAllChargeInContactEvent</th>\n",
       "      <th>False</th>\n",
       "    </tr>\n",
       "    <tr>\n",
       "      <th>SentenceTypeAllChargesAtConvictionInContactEvent</th>\n",
       "      <th></th>\n",
       "    </tr>\n",
       "  </thead>\n",
       "  <tbody>\n",
       "    <tr>\n",
       "      <th>0</th>\n",
       "      <td>8720</td>\n",
       "    </tr>\n",
       "    <tr>\n",
       "      <th>1</th>\n",
       "      <td>4299</td>\n",
       "    </tr>\n",
       "    <tr>\n",
       "      <th>2</th>\n",
       "      <td>914</td>\n",
       "    </tr>\n",
       "    <tr>\n",
       "      <th>4</th>\n",
       "      <td>8779</td>\n",
       "    </tr>\n",
       "    <tr>\n",
       "      <th>9</th>\n",
       "      <td>274</td>\n",
       "    </tr>\n",
       "  </tbody>\n",
       "</table>\n",
       "</div>"
      ],
      "text/plain": [
       "ImposedSentenceAllChargeInContactEvent            False\n",
       "SentenceTypeAllChargesAtConvictionInContactEvent       \n",
       "0                                                  8720\n",
       "1                                                  4299\n",
       "2                                                   914\n",
       "4                                                  8779\n",
       "9                                                   274"
      ]
     },
     "execution_count": 4,
     "metadata": {},
     "output_type": "execute_result"
    }
   ],
   "source": [
    "# Question 1.3\n",
    "dataq1p3 = pd.read_parquet(\"./data/justice_data.parquet\")\n",
    "\n",
    "dataq1p3[\"WhetherDefendantWasReleasedPretrial\"] = (dataq1p3[\"WhetherDefendantWasReleasedPretrial\"].\n",
    "                                                   replace({'Yes': 1, 'No': 2}).\n",
    "                                                   astype(float))\n",
    "\n",
    "# Question 1.4\n",
    "pd.crosstab(dataq1p3[\"SentenceTypeAllChargesAtConvictionInContactEvent\"], dataq1p3[\"ImposedSentenceAllChargeInContactEvent\"].isna())"
   ]
  },
  {
   "cell_type": "markdown",
   "id": "0bb16a98",
   "metadata": {},
   "source": [
    "Q1.3\n",
    "Completed in code chunk above\n",
    "\n",
    "Q1.4"
   ]
  },
  {
   "cell_type": "markdown",
   "id": "5a60a44e",
   "metadata": {},
   "source": [
    "**Q2.** Go to https://sharkattackfile.net/ and download their dataset on shark attacks (Hint: `GSAF5.xls`).\n",
    "\n",
    "1. Open the shark attack file using Pandas. It is probably not a csv file, so `read_csv` won't work.\n",
    "2. Drop any columns that do not contain data.\n",
    "3. Clean the year variable. Describe the range of values you see. Filter the rows to focus on attacks since 1940. Are attacks increasing, decreasing, or remaining constant over time?\n",
    "4. Clean the Age variable and make a histogram of the ages of the victims.\n",
    "5. What proportion of victims are male?\n",
    "6. Clean the `Type` variable so it only takes three values: Provoked and Unprovoked and Unknown. What proportion of attacks are unprovoked?\n",
    "7. Clean the `Fatal Y/N` variable so it only takes three values: Y, N, and Unknown.\n",
    "8. Are sharks more likely to launch unprovoked attacks on men or women? Is the attack more or less likely to be fatal when the attack is provoked or unprovoked? Is it more or less likely to be fatal when the victim is male or female? How do you feel about sharks?\n",
    "9. What proportion of attacks appear to be by white sharks? (Hint: `str.split()` makes a vector of text values into a list of lists, split by spaces.)"
   ]
  },
  {
   "cell_type": "code",
   "execution_count": 9,
   "id": "a3f03830",
   "metadata": {},
   "outputs": [],
   "source": [
    "# Question 2.1\n",
    "import pandas as pd\n",
    "import matplotlib.pyplot as plt\n",
    "\n",
    "messy_dataq2 = pd.read_excel(\"GSAF5.xls\")\n",
    "\n",
    "# Question 2.2\n",
    "dataq2 = messy_dataq2.dropna(axis=1, how=\"all\")"
   ]
  },
  {
   "cell_type": "markdown",
   "id": "e2d925d5",
   "metadata": {},
   "source": [
    "Q2.1\n",
    "\n",
    "Completed in code chunk above\n",
    "\n",
    "Q2.2\n",
    "\n",
    "Completed in code chunk above"
   ]
  },
  {
   "cell_type": "code",
   "execution_count": null,
   "id": "9f240990",
   "metadata": {},
   "outputs": [],
   "source": [
    "# Question 2.3\n",
    "dataq2[\"Year\"] = pd.to_numeric(dataq2[\"Year\"], errors=\"coerce\")\n",
    "drop_na_dataq2p3 = dataq2.dropna(subset=[\"Year\"]) # drop the NAs\n",
    "filtered = drop_na_dataq2p3[drop_na_dataq2p3[\"Year\"] >= 1940] # filter to the correct years"
   ]
  },
  {
   "cell_type": "markdown",
   "id": "39f2284e",
   "metadata": {},
   "source": [
    "Q2.3\n",
    "\n"
   ]
  },
  {
   "cell_type": "code",
   "execution_count": null,
   "id": "3e6893ad",
   "metadata": {},
   "outputs": [
    {
     "name": "stdout",
     "output_type": "stream",
     "text": [
      "1.0\n",
      "87.0\n"
     ]
    }
   ],
   "source": [
    "# Question 2.4\n",
    "dataq2[\"Age\"] = pd.to_numeric(dataq2[\"Age\"], errors=\"coerce\")\n",
    "q2_ages = dataq2[\"Age\"].dropna()\n",
    "q2_min = q2_ages.min()\n",
    "q2_max = q2_ages.max()\n",
    "print(q2_min)\n",
    "print(q2_max)\n",
    "\n",
    "# Question 2.5\n"
   ]
  },
  {
   "cell_type": "markdown",
   "id": "fbf649f6",
   "metadata": {},
   "source": [
    "Q2.4\n",
    "\n",
    "Q2.5"
   ]
  },
  {
   "cell_type": "code",
   "execution_count": null,
   "id": "d170dcbb",
   "metadata": {},
   "outputs": [],
   "source": [
    "# Question 2.6\n",
    "\n",
    "# Question 2.7\n",
    "print(pd.crosstab(df[\"Sex \"], df[\"Type\"], normalize=\"index\"))\n",
    "print(pd.crosstab(df[\"Type\"], df[\"Fatal\"], normalize=\"index\"))\n",
    "print(pd.crosstab(df[\"Sex \"], df[\"Fatal\"], normalize=\"index\"))\n"
   ]
  },
  {
   "cell_type": "markdown",
   "id": "629ff88b",
   "metadata": {},
   "source": [
    "Q2.6\n",
    "\n",
    "\n",
    "Q2.7\n",
    "\n",
    "Completed in code chunk above"
   ]
  },
  {
   "cell_type": "code",
   "execution_count": null,
   "id": "025c34d8",
   "metadata": {},
   "outputs": [],
   "source": [
    "# Question 2.8"
   ]
  },
  {
   "cell_type": "markdown",
   "id": "4341bd97",
   "metadata": {},
   "source": [
    "Q2.8\n"
   ]
  },
  {
   "cell_type": "code",
   "execution_count": null,
   "id": "6e49d01b",
   "metadata": {},
   "outputs": [],
   "source": [
    "# Question 2.9"
   ]
  },
  {
   "cell_type": "markdown",
   "id": "d157b0be",
   "metadata": {},
   "source": [
    "Q2.9"
   ]
  }
 ],
 "metadata": {
  "colab": {
   "provenance": []
  },
  "kernelspec": {
   "display_name": "sharkenv",
   "language": "python",
   "name": "python3"
  },
  "language_info": {
   "codemirror_mode": {
    "name": "ipython",
    "version": 3
   },
   "file_extension": ".py",
   "mimetype": "text/x-python",
   "name": "python",
   "nbconvert_exporter": "python",
   "pygments_lexer": "ipython3",
   "version": "3.9.23"
  }
 },
 "nbformat": 4,
 "nbformat_minor": 5
}
