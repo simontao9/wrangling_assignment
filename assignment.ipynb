{
 "cells": [
  {
   "cell_type": "markdown",
   "id": "13ad028b-72b7-43ed-aa78-96fd4e518040",
   "metadata": {
    "id": "13ad028b-72b7-43ed-aa78-96fd4e518040"
   },
   "source": [
    "# Assignment: Data Wrangling\n",
    "### `! git clone https://github.com/ds3001f25/wrangling_assignment.git`\n",
    "### Do Q1 and Q2\n",
    "### Reading material: `tidy_data.pdf`"
   ]
  },
  {
   "cell_type": "markdown",
   "id": "da879ea7-8aac-48a3-b6c2-daea56d2e072",
   "metadata": {
    "id": "da879ea7-8aac-48a3-b6c2-daea56d2e072"
   },
   "source": [
    "**Q1.** This question provides some practice cleaning variables which have common problems.\n",
    "1. Numeric variable: For `./data/airbnb_hw.csv`, clean the `Price` variable as well as you can, and explain the choices you make. How many missing values do you end up with? (Hint: What happens to the formatting when a price goes over 999 dollars, say from 675 to 1,112?)\n",
    "2. Categorical variable: For the Minnesota police use of for data, `./data/mn_police_use_of_force.csv`, clean the `subject_injury` variable, handling the NA's; this gives a value `Yes` when a person was injured by police, and `No` when no injury occurred. What proportion of the values are missing? Is this a concern? Cross-tabulate your cleaned `subject_injury` variable with the `force_type` variable. Are there any patterns regarding when the data are missing? \n",
    "3. Dummy variable: For the pretrial data covered in the lecture `./data/justice_data.parquet`, clean the `WhetherDefendantWasReleasedPretrial` variable as well as you can, and, in particular, replace missing values with `np.nan`.\n",
    "4. Missing values, not at random: For the pretrial data covered in the lecture, clean the `ImposedSentenceAllChargeInContactEvent` variable as well as you can, and explain the choices you make. (Hint: Look at the `SentenceTypeAllChargesAtConvictionInContactEvent` variable.)"
   ]
  },
  {
   "cell_type": "code",
   "execution_count": 1,
   "id": "9d412a8d",
   "metadata": {},
   "outputs": [
    {
     "name": "stdout",
     "output_type": "stream",
     "text": [
      "0    145\n",
      "1     37\n",
      "2     28\n",
      "3    199\n",
      "4    549\n",
      "Name: Price, dtype: object\n",
      "0\n"
     ]
    }
   ],
   "source": [
    "import pandas as pd\n",
    "import numpy as np\n",
    "\n",
    "# Question 1.1\n",
    "dataq1p1 = pd.read_csv(\"./data/airbnb_hw.csv\")\n",
    "print(dataq1p1[\"Price\"].head())\n",
    "\n",
    "dataq1p1[\"Clean_Price\"] = (dataq1p1[\"Price\"].str.replace(',', '', regex=False).astype(float))\n",
    "\n",
    "price_missing = dataq1p1[\"Clean_Price\"].isna().sum()\n",
    "print(price_missing)"
   ]
  },
  {
   "cell_type": "markdown",
   "id": "42039a10",
   "metadata": {},
   "source": [
    "Q1.1\n",
    "\n",
    "When cleaning the \"Price\" variable, I removed all of the commas and casted all of the values to floats to ensure consistency throughout the column. I decided not to remove and dollar signs ($) from this column because the values did not appear to include them when I looked at the first 5 rows. After cleaning this variable, I ended up with 0 missing values."
   ]
  },
  {
   "cell_type": "code",
   "execution_count": 2,
   "id": "db302b7e",
   "metadata": {},
   "outputs": [
    {
     "name": "stdout",
     "output_type": "stream",
     "text": [
      "[nan 'No' 'Yes']\n",
      "0.7619342359767892\n",
      "clean_subject_injury           No  None   Yes\n",
      "force_type                                   \n",
      "Baton                           0     2     2\n",
      "Bodily Force                 1093  7051  1286\n",
      "Chemical Irritant             131  1421    41\n",
      "Firearm                         2     0     0\n",
      "Gun Point Display              33    27    44\n",
      "Improvised Weapon              34    74    40\n",
      "Less Lethal                     0    87     0\n",
      "Less Lethal Projectile          1     0     2\n",
      "Maximal Restraint Technique     0   170     0\n",
      "Police K9 Bite                  2    31    44\n",
      "Taser                         150   985   172\n"
     ]
    }
   ],
   "source": [
    "# Question 1.2\n",
    "dataq1p2 = pd.read_csv(\"./data/mn_police_use_of_force.csv\")\n",
    "print(dataq1p2[\"subject_injury\"].unique())\n",
    "\n",
    "dataq1p2[\"clean_subject_injury\"] = (dataq1p2[\"subject_injury\"].\n",
    "                              str.strip().\n",
    "                              str.lower().\n",
    "                              replace({\"yes\":\"Yes\", \"no\":\"No\"}))\n",
    "\n",
    "missing_subject_inquiry = dataq1p2[\"clean_subject_injury\"].isna().mean()\n",
    "print(missing_subject_inquiry)\n",
    "\n",
    "q1p2_crosstab = pd.crosstab(dataq1p2[\"force_type\"], dataq1p2[\"clean_subject_injury\"].fillna(\"None\"), dropna=False)\n",
    "print(q1p2_crosstab)"
   ]
  },
  {
   "cell_type": "markdown",
   "id": "1e50506b",
   "metadata": {},
   "source": [
    "Q1.2\n",
    "\n",
    "The proportion of values that are missing is 0.7619. This is a concern because this a large majority of the dataset. Data for subject injury tends to be missing for observations that include bodily force, chemical irritant, and taser as the type of force used. "
   ]
  },
  {
   "cell_type": "code",
   "execution_count": 3,
   "id": "b262fdad",
   "metadata": {},
   "outputs": [
    {
     "name": "stdout",
     "output_type": "stream",
     "text": [
      "[9 0 1 4 2]\n"
     ]
    }
   ],
   "source": [
    "# Question 1.3\n",
    "dataq1p3 = pd.read_parquet(\"./data/justice_data.parquet\")\n",
    "dataq1p3[\"Clean_WhetherDefendantWasReleasedPretrial\"] = (dataq1p3[\"WhetherDefendantWasReleasedPretrial\"].replace(9.0, np.nan))\n",
    "\n",
    "# Question 1.4\n",
    "print(dataq1p3[\"SentenceTypeAllChargesAtConvictionInContactEvent\"].unique())\n",
    "dataq1p3[\"Clean_ImposedSentence\"] = pd.to_numeric(dataq1p3[\"ImposedSentenceAllChargeInContactEvent\"], errors=\"coerce\")\n",
    "dataq1p3.loc[\n",
    "    dataq1p3[\"SentenceTypeAllChargesAtConvictionInContactEvent\"] == 0 & \n",
    "    dataq1p3[\"Clean_ImposedSentence\"].isna(), \n",
    "    \"Clean_ImposedSentence\"\n",
    "] = 0"
   ]
  },
  {
   "cell_type": "markdown",
   "id": "0bb16a98",
   "metadata": {},
   "source": [
    "Q1.3\n",
    "\n",
    "Completed in code chunk above\n",
    "\n",
    "Q1.4\n",
    "\n",
    "When cleaning the \"ImposedSentenceAllChargeInContactEvent\" variable, I looked at the \"SentenceTypeAllChargesAtConvictionInContact\" variable to see if the sentence type was type 0 (Probation/no incarceration). If this was the sentence type, then that means there would be no imposed sentence (therefore the missing value makes sense). In these cases, I changed the missing value to be equal to 0 since there was no time served."
   ]
  },
  {
   "cell_type": "markdown",
   "id": "5a60a44e",
   "metadata": {},
   "source": [
    "**Q2.** Go to https://sharkattackfile.net/ and download their dataset on shark attacks (Hint: `GSAF5.xls`).\n",
    "\n",
    "1. Open the shark attack file using Pandas. It is probably not a csv file, so `read_csv` won't work.\n",
    "2. Drop any columns that do not contain data.\n",
    "3. Clean the year variable. Describe the range of values you see. Filter the rows to focus on attacks since 1940. Are attacks increasing, decreasing, or remaining constant over time?\n",
    "4. Clean the Age variable and make a histogram of the ages of the victims.\n",
    "5. What proportion of victims are male?\n",
    "6. Clean the `Type` variable so it only takes three values: Provoked and Unprovoked and Unknown. What proportion of attacks are unprovoked?\n",
    "7. Clean the `Fatal Y/N` variable so it only takes three values: Y, N, and Unknown.\n",
    "8. Are sharks more likely to launch unprovoked attacks on men or women? Is the attack more or less likely to be fatal when the attack is provoked or unprovoked? Is it more or less likely to be fatal when the victim is male or female? How do you feel about sharks?\n",
    "9. What proportion of attacks appear to be by white sharks? (Hint: `str.split()` makes a vector of text values into a list of lists, split by spaces.)"
   ]
  },
  {
   "cell_type": "code",
   "execution_count": 4,
   "id": "a3f03830",
   "metadata": {},
   "outputs": [
    {
     "name": "stdout",
     "output_type": "stream",
     "text": [
      "               Date    Year        Type      Country  \\\n",
      "0  16th August 2025  2025.0    Provoked          USA   \n",
      "1       18th August  2025.0  Unprovoked    Australia   \n",
      "2       17th August  2025.0  Unprovoked      Bahamas   \n",
      "3        7th August  2025.0  Unprovoked    Australia   \n",
      "4        1st August  2025.0  Unprovoked  Puerto Rico   \n",
      "\n",
      "                               State                             Location  \\\n",
      "0                            Florida               Cayo Costa Boca Grande   \n",
      "1                                NSW                       Cabarita Beach   \n",
      "2  Atlantic Ocean near Big Grand Cay  North of Grand Bahama near Freeport   \n",
      "3                                NSW                        Tathra Beach    \n",
      "4                           Carolina                       Carolina Beach   \n",
      "\n",
      "       Activity          Name Sex Age  ...                 Species   \\\n",
      "0       Fishing   Shawn Meuse   M   ?  ...  Lemon shark 1.8 m (6ft)   \n",
      "1       Surfing     Brad Ross   M   ?  ...  5m (16.5ft) Great White   \n",
      "2  Spearfishing    Not stated   M  63  ...             Undetermined   \n",
      "3       Surfing   Bowie Daley   M   9  ...    Suspected Great White   \n",
      "4        Wading  Eleonora Boi   F  39  ...             Undetermined   \n",
      "\n",
      "                                              Source  pdf href formula href  \\\n",
      "0  Johannes Marchand: Kevin McMurray Trackingshar...  NaN          NaN  NaN   \n",
      "1  Bob Myatt GSAF The Guardian: 9 News: ABS News:...  NaN          NaN  NaN   \n",
      "2  Ralph Collier GSAF and Kevin MCMurray Tracking...  NaN          NaN  NaN   \n",
      "3                                     Bob Myatt GSAF  NaN          NaN  NaN   \n",
      "4         Kevin McMurray Trackingsharks.com: NY Post  NaN          NaN  NaN   \n",
      "\n",
      "  Case Number Case Number.1 original order Unnamed: 21 Unnamed: 22  \n",
      "0         NaN           NaN            NaN         NaN         NaN  \n",
      "1         NaN           NaN            NaN         NaN         NaN  \n",
      "2         NaN           NaN            NaN         NaN         NaN  \n",
      "3         NaN           NaN            NaN         NaN         NaN  \n",
      "4         NaN           NaN            NaN         NaN         NaN  \n",
      "\n",
      "[5 rows x 23 columns]\n"
     ]
    }
   ],
   "source": [
    "# Question 2.1\n",
    "import pandas as pd\n",
    "import matplotlib.pyplot as plt\n",
    "\n",
    "messy_dataq2 = pd.read_excel(\"GSAF5.xls\")\n",
    "print(messy_dataq2.head())\n",
    "\n",
    "# Question 2.2\n",
    "dataq2 = messy_dataq2.dropna(axis=1, how=\"all\")"
   ]
  },
  {
   "cell_type": "markdown",
   "id": "e2d925d5",
   "metadata": {},
   "source": [
    "Q2.1\n",
    "\n",
    "Completed in code chunk above\n",
    "\n",
    "Q2.2\n",
    "\n",
    "Completed in code chunk above"
   ]
  },
  {
   "cell_type": "code",
   "execution_count": 5,
   "id": "9f240990",
   "metadata": {},
   "outputs": [
    {
     "name": "stdout",
     "output_type": "stream",
     "text": [
      "[2025. 2024. 2026. 2023. 2022. 2021. 2020. 2019. 2018. 2017.   nan 2016.\n",
      " 2015. 2014. 2013. 2012. 2011. 2010. 2009. 2008. 2007. 2006. 2005. 2004.\n",
      " 2003. 2002. 2001. 2000. 1999. 1998. 1997. 1996. 1995. 1984. 1994. 1993.\n",
      " 1992. 1991. 1990. 1989. 1969. 1988. 1987. 1986. 1985. 1983. 1982. 1981.\n",
      " 1980. 1979. 1978. 1977. 1976. 1975. 1974. 1973. 1972. 1971. 1970. 1968.\n",
      " 1967. 1966. 1965. 1964. 1963. 1962. 1961. 1960. 1959. 1958. 1957. 1956.\n",
      " 1955. 1954. 1953. 1952. 1951. 1950. 1949. 1948. 1848. 1947. 1946. 1945.\n",
      " 1944. 1943. 1942. 1941. 1940. 1939. 1938. 1937. 1936. 1935. 1934. 1933.\n",
      " 1932. 1931. 1930. 1929. 1928. 1927. 1926. 1925. 1924. 1923. 1922. 1921.\n",
      " 1920. 1919. 1918. 1917. 1916. 1915. 1914. 1913. 1912. 1911. 1910. 1909.\n",
      " 1908. 1907. 1906. 1905. 1904. 1903. 1902. 1901. 1900. 1899. 1898. 1897.\n",
      " 1896. 1895. 1894. 1893. 1892. 1891. 1890. 1889. 1888. 1887. 1886. 1885.\n",
      " 1884. 1883. 1882. 1881. 1880. 1879. 1878. 1877. 1876. 1875. 1874. 1873.\n",
      " 1872. 1871. 1870. 1869. 1868. 1867. 1866. 1865. 1864. 1863. 1862. 1861.\n",
      " 1860. 1859. 1858. 1857. 1856. 1855. 1853. 1852. 1851. 1850. 1849. 1847.\n",
      " 1846. 1845. 1844. 1842. 1841. 1840. 1839. 1837. 1836. 1835. 1834. 1832.\n",
      " 1831. 1830. 1829. 1828. 1827. 1826. 1825. 1823. 1822. 1819. 1818. 1817.\n",
      " 1816. 1815. 1812. 1811. 1810. 1808. 1807. 1805. 1804. 1803. 1802. 1801.\n",
      " 1800. 1797. 1792. 1791. 1788. 1787. 1786. 1785. 1784. 1783. 1780. 1779.\n",
      " 1776. 1771. 1767. 1764. 1758. 1753. 1751. 1749. 1755. 1748. 1742. 1738.\n",
      " 1733. 1723. 1721. 1703. 1700. 1642. 1691. 1640. 1638. 1637. 1617. 1595.\n",
      " 1580. 1555. 1554. 1543. 1518. 1500. 1000.   77.    5.    0.]\n",
      "Clean_Year\n",
      "1940.0     24\n",
      "1941.0     27\n",
      "1942.0     41\n",
      "1943.0     28\n",
      "1944.0     31\n",
      "         ... \n",
      "2022.0     98\n",
      "2023.0    109\n",
      "2024.0     52\n",
      "2025.0     48\n",
      "2026.0      1\n",
      "Length: 87, dtype: int64\n"
     ]
    },
    {
     "data": {
      "text/plain": [
       "<Axes: xlabel='Clean_Year'>"
      ]
     },
     "execution_count": 5,
     "metadata": {},
     "output_type": "execute_result"
    },
    {
     "data": {
      "image/png": "[encoded data removed]",
      "text/plain": [
       "<Figure size 640x480 with 1 Axes>"
      ]
     },
     "metadata": {},
     "output_type": "display_data"
    }
   ],
   "source": [
    "# Question 2.3\n",
    "dataq2[\"Clean_Year\"] = pd.to_numeric(dataq2[\"Year\"], errors=\"coerce\")\n",
    "print(dataq2[\"Clean_Year\"].unique())\n",
    "drop_na_dataq2p3 = dataq2.dropna(subset=[\"Clean_Year\"]) # drop the NAs\n",
    "filtered = drop_na_dataq2p3[drop_na_dataq2p3[\"Clean_Year\"] >= 1940] # filter to the correct years\n",
    "\n",
    "num_attacks = filtered.groupby(\"Clean_Year\").size()\n",
    "print(num_attacks)\n",
    "num_attacks.plot(kind=\"line\")\n"
   ]
  },
  {
   "cell_type": "markdown",
   "id": "39f2284e",
   "metadata": {},
   "source": [
    "Q2.3\n",
    "\n",
    "The number of shark attacks is generally increasing from 1950-1960 and from 1980-2018. There are periods where the number of shark attacks decreased as well, such as in the 1960s and the 2020s. The range of years in this dataset appears to span from the early 1000s to present time. "
   ]
  },
  {
   "cell_type": "code",
   "execution_count": 6,
   "id": "3e6893ad",
   "metadata": {},
   "outputs": [
    {
     "name": "stdout",
     "output_type": "stream",
     "text": [
      "['?' '63' '9' '39' '19' '7' '85' '69' '18' '66' '21' '40' '37' '16' '20'\n",
      " '12' '42' '26' '14' '45' '30' '30+' '56' '40+' '29' 35 58 29 24 20 55 17\n",
      " 12 37 36 23 40 28 69 48 '60+' 57 45 61 27 38 16 68 33 30 15 41 14 43 26\n",
      " 'Middle age' 18 21 49 25 46 19 65 64 '13' nan '11' '46' '32' '10' '64'\n",
      " '62' '22' '15' '52' '44' '47' '55' '59' '8' '50' '34' '38' '30s' '20/30'\n",
      " '35' '65' '20s' '77' '60' '49' '!2' '24' '73' '25' '50s' '58' '67' '17'\n",
      " '6' '41' '53' '68' '43' '51' '31' 39 51 10 13 60 '40s' 62 'teen' 8 22 32\n",
      " 56 'Teen' 42 50 'M' 9 31 11 34 '!6' '!!' 47 7 71 59 53 54 75 '45 and 15'\n",
      " 73 52 70 4 63 44 '28 & 22' '22, 57, 31' '60s' \"20's\" 67 74 '9 & 60'\n",
      " 'a minor' 6 3 82 '40?' 66 72 '23' '36' '71' '48' '70' '18 months' '57'\n",
      " '28' '33' '61' '74' '27' '3' '28 & 26' '5' '54' '86' '18 or 20'\n",
      " '12 or 13' '46 & 34' '28, 23 & 30' 'Teens' 77 '36 & 26' '8 or 10' 84\n",
      " '\\xa0 ' ' ' '30 or 36' '6½' '21 & ?' '33 or 37' 'mid-30s' '23 & 20' 5\n",
      " ' 30' '7      &    31' ' 28' '20?' \"60's\" '32 & 30' '16 to 18' '87'\n",
      " 'Elderly' 'mid-20s' 'Ca. 33' '74 ' '45 ' '21 or 26' '20 ' '>50'\n",
      " '18 to 22' 'adult' '9 & 12' '? & 19' '9 months' '25 to 35' '23 & 26' 1\n",
      " '(adult)' '33 & 37' '25 or 28' '37, 67, 35, 27,  ? & 27' '21, 34,24 & 35'\n",
      " '30 & 32' '50 & 30' '17 & 35' 'X' '\"middle-age\"' '13 or 18' '34 & 19'\n",
      " '33 & 26' '2 to 3 months' '4' 'MAKE LINE GREEN' ' 43' '81' '\"young\"'\n",
      " '7 or 8' 78 '17 & 16' 'F' 'Both 11' '9 or 10' 'young' '36 & 23' '  ' '78'\n",
      " 'A.M.' '?    &   14' '10 or 12' '31 or 33' '2½' '1' '13 or 14']\n"
     ]
    },
    {
     "data": {
      "image/png": "[encoded data removed]",
      "text/plain": [
       "<Figure size 640x480 with 1 Axes>"
      ]
     },
     "metadata": {},
     "output_type": "display_data"
    },
    {
     "name": "stdout",
     "output_type": "stream",
     "text": [
      "0.8026128940641863\n"
     ]
    }
   ],
   "source": [
    "# Question 2.4\n",
    "print(dataq2[\"Age\"].unique())\n",
    "dataq2[\"Strip_Age\"] = dataq2[\"Age\"].astype(str).str.strip() # get rid of white space\n",
    "\n",
    "def clean_age_variable(val):\n",
    "    if pd.isna(val):\n",
    "        return None\n",
    "    \n",
    "    numbers = [\"0\", \"1\", \"2\", \"3\", \"4\", \"5\" , \"6\", \"7\", \"8\", \"9\"]\n",
    "    if not any(character.isdigit() for character in val): # remove all non-numeric values\n",
    "        return None\n",
    "    \n",
    "    characters = \"!\", \"!!\", \"?\", \"xa\", \"-\", \"or\", \"&\", \">\", \"+\", \"s\", \"/\", \"and\", \",\"\n",
    "    if any(x in val for x in characters): # remove additional values with non-numeric values\n",
    "        return None\n",
    "    \n",
    "    fraction = \"½\"\n",
    "    if fraction in val:\n",
    "        val.replace(\"½\", \".5\")\n",
    "        \n",
    "    try:\n",
    "        return float(val)\n",
    "    except:\n",
    "        return None\n",
    "        \n",
    "dataq2[\"Clean_Age\"] = dataq2[\"Strip_Age\"].apply(clean_age_variable)\n",
    "\n",
    "q2_ages = dataq2[\"Clean_Age\"].dropna()\n",
    "\n",
    "plt.hist(q2_ages)\n",
    "plt.show()\n",
    "\n",
    "\n",
    "# Question 2.5\n",
    "dataq2[\"Sex\"] = dataq2[\"Sex\"].str.strip().str.upper()\n",
    "proportion_male = (dataq2[\"Sex\"] == \"M\").mean()\n",
    "print(proportion_male)\n",
    "\n"
   ]
  },
  {
   "cell_type": "markdown",
   "id": "fbf649f6",
   "metadata": {},
   "source": [
    "Q2.4\n",
    "\n",
    "Completed in the code chunk above.\n",
    "\n",
    "Q2.5\n",
    "\n",
    "The proportion of victims that are male is 0.8026.\n"
   ]
  },
  {
   "cell_type": "code",
   "execution_count": 7,
   "id": "d170dcbb",
   "metadata": {},
   "outputs": [
    {
     "name": "stdout",
     "output_type": "stream",
     "text": [
      "['Provoked' 'Unprovoked' 'Questionable' 'unprovoked' ' Provoked'\n",
      " 'Watercraft' 'Sea Disaster' nan '?' 'Unconfirmed' 'Unverified' 'Invalid'\n",
      " 'Under investigation' 'Boat']\n",
      "0.7380005680204488\n"
     ]
    }
   ],
   "source": [
    "# Question 2.6\n",
    "print(dataq2[\"Type\"].unique())\n",
    "\n",
    "def clean_type_variable(val):\n",
    "    val = str(val).strip().lower()\n",
    "    if val == \"provoked\":\n",
    "        return \"Provoked\"\n",
    "    elif val == \"unprovoked\":\n",
    "        return \"Unprovoked\"\n",
    "    else:\n",
    "        return \"Unknown\"\n",
    "    \n",
    "dataq2[\"Clean_Type\"] = dataq2[\"Type\"].apply(clean_type_variable)\n",
    "\n",
    "attack_total = len(dataq2)\n",
    "unprovoked_total = (dataq2[\"Clean_Type\"] == \"Unprovoked\").sum()\n",
    "q6p6_proportion = unprovoked_total/attack_total\n",
    "print(q6p6_proportion)\n",
    "\n",
    "# Question 2.7\n",
    "dataq2[\"Fatal Y/N\"].unique()\n",
    "dataq2[\"Clean_Fatal\"] = dataq2[\"Fatal Y/N\"].str.strip().str.upper()\n",
    "\n",
    "def clean_fatal_variable(val):\n",
    "    if val == \"Y\":\n",
    "        return \"Y\"\n",
    "    elif val == \"N\":\n",
    "        return \"N\"\n",
    "    else:\n",
    "        return \"Unknown\"\n",
    "    \n",
    "dataq2[\"Clean_Fatal\"] = dataq2[\"Clean_Fatal\"].apply(clean_fatal_variable)"
   ]
  },
  {
   "cell_type": "markdown",
   "id": "629ff88b",
   "metadata": {},
   "source": [
    "Q2.6\n",
    "\n",
    "The proportion of attacks that are unprovoked is 0.738.\n",
    "\n",
    "Q2.7\n",
    "\n",
    "Completed in code chunk above"
   ]
  },
  {
   "cell_type": "code",
   "execution_count": 8,
   "id": "025c34d8",
   "metadata": {},
   "outputs": [
    {
     "name": "stdout",
     "output_type": "stream",
     "text": [
      "M      4344\n",
      "F       683\n",
      "LLI       1\n",
      "Name: Sex, dtype: int64\n",
      "\n",
      "\n",
      "Clean_Fatal               N  Unknown       Y\n",
      "Type                                        \n",
      " Provoked               1.0      NaN     1.0\n",
      "?                       1.0      NaN     NaN\n",
      "Boat                    7.0      NaN     NaN\n",
      "Invalid                17.0    527.0     8.0\n",
      "Provoked              610.0      9.0    20.0\n",
      "Questionable           14.0      4.0     8.0\n",
      "Sea Disaster           67.0      6.0   169.0\n",
      "Unconfirmed             NaN      1.0     NaN\n",
      "Under investigation     1.0      NaN     NaN\n",
      "Unprovoked           3856.0     79.0  1261.0\n",
      "Unverified              1.0      NaN     NaN\n",
      "Watercraft            332.0     12.0    11.0\n",
      "unprovoked              1.0      NaN     NaN\n",
      "\n",
      "\n",
      "Sex            .      F  LLI       M  M X 2    N\n",
      "Clean_Fatal                                     \n",
      "N            NaN  614.0  1.0  3941.0    NaN  1.0\n",
      "Unknown      NaN   70.0  NaN   460.0    1.0  NaN\n",
      "Y            1.0  122.0  NaN  1251.0    NaN  1.0\n"
     ]
    }
   ],
   "source": [
    "# Question 2.8\n",
    "unprovoked_attacks = dataq2[dataq2[\"Type\"] == \"Unprovoked\"]\n",
    "sex_unprovoked_attacks = unprovoked_attacks[\"Sex\"].value_counts()\n",
    "print(sex_unprovoked_attacks)\n",
    "print(\"\\n\")\n",
    "\n",
    "type_fatality = dataq2.groupby('Type')[\"Clean_Fatal\"].value_counts().unstack()\n",
    "print(type_fatality)\n",
    "print(\"\\n\")\n",
    "\n",
    "fatality_sex = dataq2.groupby(\"Clean_Fatal\")[\"Sex\"].value_counts().unstack()\n",
    "print(fatality_sex)"
   ]
  },
  {
   "cell_type": "markdown",
   "id": "4341bd97",
   "metadata": {},
   "source": [
    "Q2.8\n",
    "\n",
    "Sharks are more likely to launch unprovoked attacks on men. The attack is more likely to be fatal when the attack is unprovoked. Also, the attack is more likely to be fatal when the victim is male. I think sharks are interesting to look at, but I would be scared if I were ever swimming in the ocean near them. "
   ]
  },
  {
   "cell_type": "code",
   "execution_count": 9,
   "id": "6e49d01b",
   "metadata": {},
   "outputs": [
    {
     "name": "stdout",
     "output_type": "stream",
     "text": [
      "0.10678784436239705\n"
     ]
    }
   ],
   "source": [
    "# Question 2.9\n",
    "dataq2[\"Species \"] = dataq2[\"Species \"].astype(str)\n",
    "num_white_shark_attacks = dataq2[\"Species \"].str.contains(\"White\", case=False, na=False)\n",
    "q2p9_proportion = num_white_shark_attacks.mean()\n",
    "print(q2p9_proportion)"
   ]
  },
  {
   "cell_type": "markdown",
   "id": "d157b0be",
   "metadata": {},
   "source": [
    "Q2.9\n",
    "\n",
    "The proportion of attacks that appear to be by white sharks is 0.107."
   ]
  }
 ],
 "metadata": {
  "colab": {
   "provenance": []
  },
  "kernelspec": {
   "display_name": "sharkenv",
   "language": "python",
   "name": "python3"
  },
  "language_info": {
   "codemirror_mode": {
    "name": "ipython",
    "version": 3
   },
   "file_extension": ".py",
   "mimetype": "text/x-python",
   "name": "python",
   "nbconvert_exporter": "python",
   "pygments_lexer": "ipython3",
   "version": "3.9.23"
  }
 },
 "nbformat": 4,
 "nbformat_minor": 5
}
